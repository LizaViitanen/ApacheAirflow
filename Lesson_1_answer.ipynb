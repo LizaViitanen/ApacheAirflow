{
 "cells": [
  {
   "cell_type": "code",
   "execution_count": null,
   "id": "medical-soviet",
   "metadata": {},
   "outputs": [],
   "source": [
    "1. Какой из флагов утилиты crontab покажет список существующих кронов?\n",
    "\n",
    "Ответ: crontab -l"
   ]
  },
  {
   "cell_type": "code",
   "execution_count": null,
   "id": "smaller-sleeve",
   "metadata": {},
   "outputs": [],
   "source": [
    "2. Напишите крон, который будет запускаться каждую пятницу в 9 часов вечера.\n",
    "\n",
    "Ответ: 0 21 * * 5"
   ]
  },
  {
   "cell_type": "code",
   "execution_count": null,
   "id": "inappropriate-mayor",
   "metadata": {},
   "outputs": [],
   "source": [
    "3. Напишите крон, который будет запускаться каждое воскресенье марта месяца на протяжении всего дня с интервалом в 4 часа (т.е. запуск будет в 2021-03-07 00:00:00, затем 2021-03-07 04:00:00 и т.д.)\n",
    "\n",
    "Ответ: 0 */4 * 3 7"
   ]
  },
  {
   "cell_type": "code",
   "execution_count": null,
   "id": "complimentary-coffee",
   "metadata": {},
   "outputs": [],
   "source": [
    "4. Отметьте все картинки, где изображен направленный ациклический граф.\n",
    "\n",
    "Ответ: 1"
   ]
  },
  {
   "cell_type": "code",
   "execution_count": null,
   "id": "residential-combining",
   "metadata": {},
   "outputs": [],
   "source": [
    "5. Опишите своими словами, как Вы поняли, чем отличается task от operator?\n",
    "\n",
    "Ответ: Задача выполняет какие-либо действия (что сделать?), а оператор выполняет эту задачу (как и через что выполнить задачу)\n"
   ]
  }
 ],
 "metadata": {
  "kernelspec": {
   "display_name": "Python 3",
   "language": "python",
   "name": "python3"
  },
  "language_info": {
   "codemirror_mode": {
    "name": "ipython",
    "version": 3
   },
   "file_extension": ".py",
   "mimetype": "text/x-python",
   "name": "python",
   "nbconvert_exporter": "python",
   "pygments_lexer": "ipython3",
   "version": "3.8.5"
  }
 },
 "nbformat": 4,
 "nbformat_minor": 5
}
